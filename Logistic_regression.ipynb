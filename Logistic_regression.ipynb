{
  "nbformat": 4,
  "nbformat_minor": 0,
  "metadata": {
    "colab": {
      "provenance": [],
      "collapsed_sections": []
    },
    "kernelspec": {
      "name": "python3",
      "display_name": "Python 3"
    },
    "language_info": {
      "name": "python"
    }
  },
  "cells": [
    {
      "cell_type": "code",
      "execution_count": null,
      "metadata": {
        "id": "-_SbYHIe8xZt"
      },
      "outputs": [],
      "source": [
        "import pandas as pd\n",
        "import numpy as np\n",
        "import matplotlib.pyplot as plt"
      ]
    },
    {
      "cell_type": "code",
      "source": [
        "df= pd.read_csv('Salary_data.csv')\n",
        "print(df.head())"
      ],
      "metadata": {
        "id": "M7aTRq1488ah",
        "colab": {
          "base_uri": "https://localhost:8080/"
        },
        "outputId": "94756b8a-6d18-45b2-8723-3520da7cc57e"
      },
      "execution_count": null,
      "outputs": [
        {
          "output_type": "stream",
          "name": "stdout",
          "text": [
            "   Salaries Reported  Experience   Salary\n",
            "0                  3           6   400000\n",
            "1                  3           7   400000\n",
            "2                  3          11  1000000\n",
            "3                  3           9   300000\n",
            "4                  3          12   600000\n"
          ]
        }
      ]
    },
    {
      "cell_type": "code",
      "source": [
        "x=df.iloc[ : , : -1]\n",
        "y=df.iloc[ : , -1 ]\n",
        "print(x)\n",
        "print(y)"
      ],
      "metadata": {
        "colab": {
          "base_uri": "https://localhost:8080/"
        },
        "id": "JR_h5cGVEQnQ",
        "outputId": "8030f50c-40b5-4d92-fba0-2630ae6a8e50"
      },
      "execution_count": null,
      "outputs": [
        {
          "output_type": "stream",
          "name": "stdout",
          "text": [
            "    Salaries Reported  Experience\n",
            "0                   3           6\n",
            "1                   3           7\n",
            "2                   3          11\n",
            "3                   3           9\n",
            "4                   3          12\n",
            "5                   3          12\n",
            "6                   3           3\n",
            "7                   3           5\n",
            "8                   3           8\n",
            "9                   3           8\n",
            "10                  3           9\n",
            "11                  2          10\n",
            "12                  2          11\n",
            "13                  2           2\n",
            "14                  2           6\n",
            "15                  2           4\n",
            "16                  2           7\n",
            "17                  2           8\n",
            "18                  2           8\n",
            "19                  2           7\n",
            "20                  2           9\n",
            "21                  2           3\n",
            "22                  2          12\n",
            "23                  2           3\n",
            "24                  2           6\n",
            "25                  2           8\n",
            "26                  2           9\n",
            "27                  2           3\n",
            "28                  2           2\n",
            "29                  3           6\n",
            "30                  3           7\n",
            "31                  3          11\n",
            "32                  3           9\n",
            "33                  3          12\n",
            "34                  3          12\n",
            "35                  3           3\n",
            "36                  3           5\n",
            "37                  3           8\n",
            "38                  3           8\n",
            "39                  3           9\n",
            "40                  2          10\n",
            "41                  2          11\n",
            "42                  2           2\n",
            "43                  2           6\n",
            "44                  2           4\n",
            "45                  2           7\n",
            "46                  2           8\n",
            "47                  2           8\n",
            "48                  2           7\n",
            "49                  2           9\n",
            "50                  2           3\n",
            "51                  2          12\n",
            "52                  2           3\n",
            "53                  2           6\n",
            "54                  2           8\n",
            "55                  2           9\n",
            "56                  2           3\n",
            "57                  2           2\n",
            "0      400000\n",
            "1      400000\n",
            "2     1000000\n",
            "3      300000\n",
            "4      600000\n",
            "5      100000\n",
            "6      192000\n",
            "7      400000\n",
            "8      300000\n",
            "9      600000\n",
            "10     300000\n",
            "11     240000\n",
            "12     900000\n",
            "13      24000\n",
            "14     600000\n",
            "15     228000\n",
            "16     600000\n",
            "17     360000\n",
            "18    1000000\n",
            "19     500000\n",
            "20     408000\n",
            "21     300000\n",
            "22     800000\n",
            "23     228000\n",
            "24     100000\n",
            "25     500000\n",
            "26     200000\n",
            "27     500000\n",
            "28     228000\n",
            "29     400000\n",
            "30     400000\n",
            "31    1000000\n",
            "32     300000\n",
            "33     600000\n",
            "34     100000\n",
            "35     192000\n",
            "36     400000\n",
            "37     300000\n",
            "38     600000\n",
            "39     300000\n",
            "40     240000\n",
            "41     900000\n",
            "42      24000\n",
            "43     600000\n",
            "44     228000\n",
            "45     600000\n",
            "46     360000\n",
            "47    1000000\n",
            "48     500000\n",
            "49     408000\n",
            "50     300000\n",
            "51     800000\n",
            "52     228000\n",
            "53     100000\n",
            "54     500000\n",
            "55     200000\n",
            "56     500000\n",
            "57     228000\n",
            "Name: Salary, dtype: int64\n"
          ]
        }
      ]
    },
    {
      "cell_type": "code",
      "source": [
        "from sklearn.model_selection import train_test_split \n",
        "x_train,x_test,y_train,y_test=train_test_split(x,y,test_size=0.5,random_state = 0)\n",
        "x_test"
      ],
      "metadata": {
        "colab": {
          "base_uri": "https://localhost:8080/",
          "height": 959
        },
        "id": "cErrcI4REtGJ",
        "outputId": "c40abf7e-8210-4deb-bb9f-573098704df9"
      },
      "execution_count": null,
      "outputs": [
        {
          "output_type": "execute_result",
          "data": {
            "text/plain": [
              "    Salaries Reported  Experience\n",
              "35                  3           3\n",
              "34                  3          12\n",
              "42                  2           2\n",
              "27                  2           3\n",
              "11                  2          10\n",
              "2                   3          11\n",
              "33                  3          12\n",
              "45                  2           7\n",
              "22                  2          12\n",
              "48                  2           7\n",
              "4                   3          12\n",
              "10                  3           9\n",
              "29                  3           6\n",
              "40                  2          10\n",
              "32                  3           9\n",
              "41                  2          11\n",
              "37                  3           8\n",
              "7                   3           5\n",
              "14                  2           6\n",
              "31                  3          11\n",
              "28                  2           2\n",
              "56                  2           3\n",
              "52                  2           3\n",
              "18                  2           8\n",
              "54                  2           8\n",
              "26                  2           9\n",
              "15                  2           4\n",
              "5                   3          12\n",
              "30                  3           7"
            ],
            "text/html": [
              "\n",
              "  <div id=\"df-250fc4cc-126b-4a03-ba39-4f487e4d7c25\">\n",
              "    <div class=\"colab-df-container\">\n",
              "      <div>\n",
              "<style scoped>\n",
              "    .dataframe tbody tr th:only-of-type {\n",
              "        vertical-align: middle;\n",
              "    }\n",
              "\n",
              "    .dataframe tbody tr th {\n",
              "        vertical-align: top;\n",
              "    }\n",
              "\n",
              "    .dataframe thead th {\n",
              "        text-align: right;\n",
              "    }\n",
              "</style>\n",
              "<table border=\"1\" class=\"dataframe\">\n",
              "  <thead>\n",
              "    <tr style=\"text-align: right;\">\n",
              "      <th></th>\n",
              "      <th>Salaries Reported</th>\n",
              "      <th>Experience</th>\n",
              "    </tr>\n",
              "  </thead>\n",
              "  <tbody>\n",
              "    <tr>\n",
              "      <th>35</th>\n",
              "      <td>3</td>\n",
              "      <td>3</td>\n",
              "    </tr>\n",
              "    <tr>\n",
              "      <th>34</th>\n",
              "      <td>3</td>\n",
              "      <td>12</td>\n",
              "    </tr>\n",
              "    <tr>\n",
              "      <th>42</th>\n",
              "      <td>2</td>\n",
              "      <td>2</td>\n",
              "    </tr>\n",
              "    <tr>\n",
              "      <th>27</th>\n",
              "      <td>2</td>\n",
              "      <td>3</td>\n",
              "    </tr>\n",
              "    <tr>\n",
              "      <th>11</th>\n",
              "      <td>2</td>\n",
              "      <td>10</td>\n",
              "    </tr>\n",
              "    <tr>\n",
              "      <th>2</th>\n",
              "      <td>3</td>\n",
              "      <td>11</td>\n",
              "    </tr>\n",
              "    <tr>\n",
              "      <th>33</th>\n",
              "      <td>3</td>\n",
              "      <td>12</td>\n",
              "    </tr>\n",
              "    <tr>\n",
              "      <th>45</th>\n",
              "      <td>2</td>\n",
              "      <td>7</td>\n",
              "    </tr>\n",
              "    <tr>\n",
              "      <th>22</th>\n",
              "      <td>2</td>\n",
              "      <td>12</td>\n",
              "    </tr>\n",
              "    <tr>\n",
              "      <th>48</th>\n",
              "      <td>2</td>\n",
              "      <td>7</td>\n",
              "    </tr>\n",
              "    <tr>\n",
              "      <th>4</th>\n",
              "      <td>3</td>\n",
              "      <td>12</td>\n",
              "    </tr>\n",
              "    <tr>\n",
              "      <th>10</th>\n",
              "      <td>3</td>\n",
              "      <td>9</td>\n",
              "    </tr>\n",
              "    <tr>\n",
              "      <th>29</th>\n",
              "      <td>3</td>\n",
              "      <td>6</td>\n",
              "    </tr>\n",
              "    <tr>\n",
              "      <th>40</th>\n",
              "      <td>2</td>\n",
              "      <td>10</td>\n",
              "    </tr>\n",
              "    <tr>\n",
              "      <th>32</th>\n",
              "      <td>3</td>\n",
              "      <td>9</td>\n",
              "    </tr>\n",
              "    <tr>\n",
              "      <th>41</th>\n",
              "      <td>2</td>\n",
              "      <td>11</td>\n",
              "    </tr>\n",
              "    <tr>\n",
              "      <th>37</th>\n",
              "      <td>3</td>\n",
              "      <td>8</td>\n",
              "    </tr>\n",
              "    <tr>\n",
              "      <th>7</th>\n",
              "      <td>3</td>\n",
              "      <td>5</td>\n",
              "    </tr>\n",
              "    <tr>\n",
              "      <th>14</th>\n",
              "      <td>2</td>\n",
              "      <td>6</td>\n",
              "    </tr>\n",
              "    <tr>\n",
              "      <th>31</th>\n",
              "      <td>3</td>\n",
              "      <td>11</td>\n",
              "    </tr>\n",
              "    <tr>\n",
              "      <th>28</th>\n",
              "      <td>2</td>\n",
              "      <td>2</td>\n",
              "    </tr>\n",
              "    <tr>\n",
              "      <th>56</th>\n",
              "      <td>2</td>\n",
              "      <td>3</td>\n",
              "    </tr>\n",
              "    <tr>\n",
              "      <th>52</th>\n",
              "      <td>2</td>\n",
              "      <td>3</td>\n",
              "    </tr>\n",
              "    <tr>\n",
              "      <th>18</th>\n",
              "      <td>2</td>\n",
              "      <td>8</td>\n",
              "    </tr>\n",
              "    <tr>\n",
              "      <th>54</th>\n",
              "      <td>2</td>\n",
              "      <td>8</td>\n",
              "    </tr>\n",
              "    <tr>\n",
              "      <th>26</th>\n",
              "      <td>2</td>\n",
              "      <td>9</td>\n",
              "    </tr>\n",
              "    <tr>\n",
              "      <th>15</th>\n",
              "      <td>2</td>\n",
              "      <td>4</td>\n",
              "    </tr>\n",
              "    <tr>\n",
              "      <th>5</th>\n",
              "      <td>3</td>\n",
              "      <td>12</td>\n",
              "    </tr>\n",
              "    <tr>\n",
              "      <th>30</th>\n",
              "      <td>3</td>\n",
              "      <td>7</td>\n",
              "    </tr>\n",
              "  </tbody>\n",
              "</table>\n",
              "</div>\n",
              "      <button class=\"colab-df-convert\" onclick=\"convertToInteractive('df-250fc4cc-126b-4a03-ba39-4f487e4d7c25')\"\n",
              "              title=\"Convert this dataframe to an interactive table.\"\n",
              "              style=\"display:none;\">\n",
              "        \n",
              "  <svg xmlns=\"http://www.w3.org/2000/svg\" height=\"24px\"viewBox=\"0 0 24 24\"\n",
              "       width=\"24px\">\n",
              "    <path d=\"M0 0h24v24H0V0z\" fill=\"none\"/>\n",
              "    <path d=\"M18.56 5.44l.94 2.06.94-2.06 2.06-.94-2.06-.94-.94-2.06-.94 2.06-2.06.94zm-11 1L8.5 8.5l.94-2.06 2.06-.94-2.06-.94L8.5 2.5l-.94 2.06-2.06.94zm10 10l.94 2.06.94-2.06 2.06-.94-2.06-.94-.94-2.06-.94 2.06-2.06.94z\"/><path d=\"M17.41 7.96l-1.37-1.37c-.4-.4-.92-.59-1.43-.59-.52 0-1.04.2-1.43.59L10.3 9.45l-7.72 7.72c-.78.78-.78 2.05 0 2.83L4 21.41c.39.39.9.59 1.41.59.51 0 1.02-.2 1.41-.59l7.78-7.78 2.81-2.81c.8-.78.8-2.07 0-2.86zM5.41 20L4 18.59l7.72-7.72 1.47 1.35L5.41 20z\"/>\n",
              "  </svg>\n",
              "      </button>\n",
              "      \n",
              "  <style>\n",
              "    .colab-df-container {\n",
              "      display:flex;\n",
              "      flex-wrap:wrap;\n",
              "      gap: 12px;\n",
              "    }\n",
              "\n",
              "    .colab-df-convert {\n",
              "      background-color: #E8F0FE;\n",
              "      border: none;\n",
              "      border-radius: 50%;\n",
              "      cursor: pointer;\n",
              "      display: none;\n",
              "      fill: #1967D2;\n",
              "      height: 32px;\n",
              "      padding: 0 0 0 0;\n",
              "      width: 32px;\n",
              "    }\n",
              "\n",
              "    .colab-df-convert:hover {\n",
              "      background-color: #E2EBFA;\n",
              "      box-shadow: 0px 1px 2px rgba(60, 64, 67, 0.3), 0px 1px 3px 1px rgba(60, 64, 67, 0.15);\n",
              "      fill: #174EA6;\n",
              "    }\n",
              "\n",
              "    [theme=dark] .colab-df-convert {\n",
              "      background-color: #3B4455;\n",
              "      fill: #D2E3FC;\n",
              "    }\n",
              "\n",
              "    [theme=dark] .colab-df-convert:hover {\n",
              "      background-color: #434B5C;\n",
              "      box-shadow: 0px 1px 3px 1px rgba(0, 0, 0, 0.15);\n",
              "      filter: drop-shadow(0px 1px 2px rgba(0, 0, 0, 0.3));\n",
              "      fill: #FFFFFF;\n",
              "    }\n",
              "  </style>\n",
              "\n",
              "      <script>\n",
              "        const buttonEl =\n",
              "          document.querySelector('#df-250fc4cc-126b-4a03-ba39-4f487e4d7c25 button.colab-df-convert');\n",
              "        buttonEl.style.display =\n",
              "          google.colab.kernel.accessAllowed ? 'block' : 'none';\n",
              "\n",
              "        async function convertToInteractive(key) {\n",
              "          const element = document.querySelector('#df-250fc4cc-126b-4a03-ba39-4f487e4d7c25');\n",
              "          const dataTable =\n",
              "            await google.colab.kernel.invokeFunction('convertToInteractive',\n",
              "                                                     [key], {});\n",
              "          if (!dataTable) return;\n",
              "\n",
              "          const docLinkHtml = 'Like what you see? Visit the ' +\n",
              "            '<a target=\"_blank\" href=https://colab.research.google.com/notebooks/data_table.ipynb>data table notebook</a>'\n",
              "            + ' to learn more about interactive tables.';\n",
              "          element.innerHTML = '';\n",
              "          dataTable['output_type'] = 'display_data';\n",
              "          await google.colab.output.renderOutput(dataTable, element);\n",
              "          const docLink = document.createElement('div');\n",
              "          docLink.innerHTML = docLinkHtml;\n",
              "          element.appendChild(docLink);\n",
              "        }\n",
              "      </script>\n",
              "    </div>\n",
              "  </div>\n",
              "  "
            ]
          },
          "metadata": {},
          "execution_count": 6
        }
      ]
    },
    {
      "cell_type": "code",
      "source": [
        "from sklearn.preprocessing import StandardScaler\n",
        "sc = StandardScaler()\n",
        "x_train = sc.fit_transform(x_train)\n",
        "x_test = sc.transform(x_test)"
      ],
      "metadata": {
        "id": "jGKMrWWqE_Ut"
      },
      "execution_count": null,
      "outputs": []
    },
    {
      "cell_type": "code",
      "source": [
        "from pandas.core.common import random_state\n",
        "from sklearn.linear_model import LogisticRegression\n",
        "ml = LogisticRegression(random_state =0)\n",
        "ml.fit(x_train,y_train)"
      ],
      "metadata": {
        "colab": {
          "base_uri": "https://localhost:8080/"
        },
        "id": "nW_gu-t-FVHc",
        "outputId": "0ccbf814-1cc2-4d08-ce0f-2725fd12aa15"
      },
      "execution_count": null,
      "outputs": [
        {
          "output_type": "execute_result",
          "data": {
            "text/plain": [
              "LogisticRegression(random_state=0)"
            ]
          },
          "metadata": {},
          "execution_count": 8
        }
      ]
    },
    {
      "cell_type": "code",
      "source": [
        "y_pred = ml.predict(x_test)\n",
        "print(y_pred )"
      ],
      "metadata": {
        "colab": {
          "base_uri": "https://localhost:8080/"
        },
        "id": "VzhXDayEFU84",
        "outputId": "253d80fb-b780-4727-e1cb-b76b1048d363"
      },
      "execution_count": null,
      "outputs": [
        {
          "output_type": "stream",
          "name": "stdout",
          "text": [
            "[400000 600000 228000 228000 408000 600000 600000 600000 408000 600000\n",
            " 600000 300000 300000 408000 300000 408000 300000 400000 300000 600000\n",
            " 228000 228000 228000 600000 600000 408000 228000 600000 300000]\n"
          ]
        }
      ]
    },
    {
      "cell_type": "code",
      "source": [
        "plt.scatter(y_test,y_pred)\n",
        "plt.xlabel('Actual')\n",
        "plt.ylabel('predicted')\n",
        "plt.title('Actual vs predicted')"
      ],
      "metadata": {
        "colab": {
          "base_uri": "https://localhost:8080/",
          "height": 312
        },
        "id": "FazKCoI-FlRk",
        "outputId": "24c59206-d363-4b33-e727-218fda6f0979"
      },
      "execution_count": null,
      "outputs": [
        {
          "output_type": "execute_result",
          "data": {
            "text/plain": [
              "Text(0.5, 1.0, 'Actual vs predicted')"
            ]
          },
          "metadata": {},
          "execution_count": 10
        },
        {
          "output_type": "display_data",
          "data": {
            "text/plain": [
              "<Figure size 432x288 with 1 Axes>"
            ],
            "image/png": "[encoded data removed]"
          },
          "metadata": {
            "needs_background": "light"
          }
        }
      ]
    }
  ]
}