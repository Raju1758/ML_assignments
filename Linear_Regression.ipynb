{
  "nbformat": 4,
  "nbformat_minor": 0,
  "metadata": {
    "colab": {
      "provenance": [],
      "collapsed_sections": []
    },
    "kernelspec": {
      "name": "python3",
      "display_name": "Python 3"
    },
    "language_info": {
      "name": "python"
    }
  },
  "cells": [
    {
      "cell_type": "code",
      "execution_count": null,
      "metadata": {
        "id": "smlP2py6DlpX"
      },
      "outputs": [],
      "source": [
        "import numpy as np\n",
        "import pandas as pd\n",
        "import matplotlib.pyplot as plt\n"
      ]
    },
    {
      "cell_type": "code",
      "source": [
        "df= pd.read_csv('Salary_data.csv')\n",
        "print(df.head())\n",
        " print(df.shape)\n",
        "print(df.isnull().sum())\n"
      ],
      "metadata": {
        "id": "EPxMM6vCIuT2",
        "colab": {
          "base_uri": "https://localhost:8080/"
        },
        "outputId": "458f413f-8472-4422-cc09-17a6858be338"
      },
      "execution_count": null,
      "outputs": [
        {
          "output_type": "stream",
          "name": "stdout",
          "text": [
            "   Salaries Reported  Experience   Salary\n",
            "0                  3           6   400000\n",
            "1                  3           7   400000\n",
            "2                  3          11  1000000\n",
            "3                  3           9   300000\n",
            "4                  3          12   600000\n",
            "(29, 3)\n",
            "Salaries Reported    0\n",
            "Experience           0\n",
            "Salary               0\n",
            "dtype: int64\n"
          ]
        }
      ]
    },
    {
      "cell_type": "code",
      "source": [
        "x=df.iloc[ : , : -1]\n",
        "y=df.iloc[ : , -1 ]\n",
        "print(x)\n",
        "print(y)\n"
      ],
      "metadata": {
        "colab": {
          "base_uri": "https://localhost:8080/"
        },
        "id": "qmvc6aiNpPMP",
        "outputId": "95fafbab-d1de-4911-8745-7b5fb2eadda2"
      },
      "execution_count": null,
      "outputs": [
        {
          "output_type": "stream",
          "name": "stdout",
          "text": [
            "    Salaries Reported  Experience\n",
            "0                   3           6\n",
            "1                   3           7\n",
            "2                   3          11\n",
            "3                   3           9\n",
            "4                   3          12\n",
            "5                   3          12\n",
            "6                   3           3\n",
            "7                   3           5\n",
            "8                   3           8\n",
            "9                   3           8\n",
            "10                  3           9\n",
            "11                  2          10\n",
            "12                  2          11\n",
            "13                  2           2\n",
            "14                  2           6\n",
            "15                  2           4\n",
            "16                  2           7\n",
            "17                  2           8\n",
            "18                  2           8\n",
            "19                  2           7\n",
            "20                  2           9\n",
            "21                  2           3\n",
            "22                  2          12\n",
            "23                  2           3\n",
            "24                  2           6\n",
            "25                  2           8\n",
            "26                  2           9\n",
            "27                  2           3\n",
            "28                  2           2\n",
            "0      400000\n",
            "1      400000\n",
            "2     1000000\n",
            "3      300000\n",
            "4      600000\n",
            "5      100000\n",
            "6      192000\n",
            "7      400000\n",
            "8      300000\n",
            "9      600000\n",
            "10     300000\n",
            "11     240000\n",
            "12     900000\n",
            "13      24000\n",
            "14     600000\n",
            "15     228000\n",
            "16     600000\n",
            "17     360000\n",
            "18    1000000\n",
            "19     500000\n",
            "20     408000\n",
            "21     300000\n",
            "22     800000\n",
            "23     228000\n",
            "24     100000\n",
            "25     500000\n",
            "26     200000\n",
            "27     500000\n",
            "28     228000\n",
            "Name: Salary, dtype: int64\n"
          ]
        }
      ]
    },
    {
      "cell_type": "code",
      "source": [
        "from sklearn.model_selection import train_test_split \n",
        "x_train,x_test,y_train,y_test=train_test_split(x,y,test_size=0.10,random_state = 7)\n",
        " \n",
        "\n",
        "print(x_train.shape)\n",
        "print(x_test.shape)"
      ],
      "metadata": {
        "id": "FDLi1CB_JVUh",
        "colab": {
          "base_uri": "https://localhost:8080/"
        },
        "outputId": "06f4b63e-0372-4461-d091-ef76e80fdbef"
      },
      "execution_count": null,
      "outputs": [
        {
          "output_type": "stream",
          "name": "stdout",
          "text": [
            "(26, 2)\n",
            "(3, 2)\n"
          ]
        }
      ]
    },
    {
      "cell_type": "code",
      "source": [
        "from sklearn.linear_model import LinearRegression\n",
        "regr = LinearRegression()\n",
        "regr.fit(x_train,y_train)\n"
      ],
      "metadata": {
        "colab": {
          "base_uri": "https://localhost:8080/"
        },
        "id": "BdP-UAlxuZnK",
        "outputId": "5890566b-f408-49ff-a118-d3c12f339c72"
      },
      "execution_count": null,
      "outputs": [
        {
          "output_type": "execute_result",
          "data": {
            "text/plain": [
              "LinearRegression()"
            ]
          },
          "metadata": {},
          "execution_count": 52
        }
      ]
    },
    {
      "cell_type": "code",
      "source": [
        "y_pred = regr.predict(x_test)\n",
        "print('Predictions for test data:', y_pred)"
      ],
      "metadata": {
        "colab": {
          "base_uri": "https://localhost:8080/"
        },
        "id": "zXm378H-3pRP",
        "outputId": "c1cf98dc-239f-4451-f932-5e1f9880437e"
      },
      "execution_count": null,
      "outputs": [
        {
          "output_type": "stream",
          "name": "stdout",
          "text": [
            "Predictions for test data: [464062.08499336 488476.09561753 318201.52722444]\n"
          ]
        }
      ]
    },
    {
      "cell_type": "code",
      "source": [
        "from sklearn.metrics import r2_score,mean_squared_error\n",
        "print(\"r2 score of our model is:\", r2_score(y_test,y_pred))\n",
        "print(\"mean absolute error of our model is:\", mean_squared_error(y_test,y_pred))"
      ],
      "metadata": {
        "colab": {
          "base_uri": "https://localhost:8080/"
        },
        "id": "rG2EAObn35AZ",
        "outputId": "79ce4601-ff89-4dac-dd1f-a14ff4f39cdb"
      },
      "execution_count": null,
      "outputs": [
        {
          "output_type": "stream",
          "name": "stdout",
          "text": [
            "r2 score of our model is: -0.20757214484648867\n",
            "mean absolute error of our model is: 103475515345.06801\n"
          ]
        }
      ]
    },
    {
      "cell_type": "code",
      "source": [
        "plt.scatter(y_test,y_pred)\n",
        "plt.xlabel('Experience')\n",
        "plt.ylabel('salary')\n",
        "plt.title('experience vs salary')"
      ],
      "metadata": {
        "id": "9QqX9p_tJdML",
        "colab": {
          "base_uri": "https://localhost:8080/",
          "height": 312
        },
        "outputId": "a534cb2f-0694-40a7-8ea3-b83be61b8c5b"
      },
      "execution_count": null,
      "outputs": [
        {
          "output_type": "execute_result",
          "data": {
            "text/plain": [
              "Text(0.5, 1.0, 'experience vs salary')"
            ]
          },
          "metadata": {},
          "execution_count": 62
        },
        {
          "output_type": "display_data",
          "data": {
            "text/plain": [
              "<Figure size 432x288 with 1 Axes>"
            ],
            "image/png": "[encoded data removed]"
          },
          "metadata": {
            "needs_background": "light"
          }
        }
      ]
    }
  ]
}