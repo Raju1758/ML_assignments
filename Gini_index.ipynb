{
  "nbformat": 4,
  "nbformat_minor": 0,
  "metadata": {
    "colab": {
      "provenance": [],
      "collapsed_sections": []
    },
    "kernelspec": {
      "name": "python3",
      "display_name": "Python 3"
    },
    "language_info": {
      "name": "python"
    }
  },
  "cells": [
    {
      "cell_type": "code",
      "execution_count": 1,
      "metadata": {
        "id": "yncVLf8PzH-M"
      },
      "outputs": [],
      "source": [
        "import pandas as pd\n",
        "import numpy as np\n",
        "import matplotlib.pyplot as plt\n"
      ]
    },
    {
      "cell_type": "code",
      "source": [
        "df=pd.read_csv(\"milk_quality_data.csv\")\n",
        "df.head()"
      ],
      "metadata": {
        "colab": {
          "base_uri": "https://localhost:8080/",
          "height": 206
        },
        "id": "r4fB1pRtMmtX",
        "outputId": "5576bff9-0063-49f9-bcf6-db8148bd60c9"
      },
      "execution_count": 4,
      "outputs": [
        {
          "output_type": "execute_result",
          "data": {
            "text/plain": [
              "    pH  Temprature  Taste  Odor  Fat   Turbidity  Colour   Grade\n",
              "0  6.6          35      1     0     1          0     254    high\n",
              "1  6.6          36      0     1     0          1     253    high\n",
              "2  8.5          70      1     1     1          1     246     low\n",
              "3  9.5          34      1     1     0          1     255     low\n",
              "4  6.6          37      0     0     0          0     255  medium"
            ],
            "text/html": [
              "\n",
              "  <div id=\"df-12b909e1-2bc2-4e39-bd56-ffd1098b31c9\">\n",
              "    <div class=\"colab-df-container\">\n",
              "      <div>\n",
              "<style scoped>\n",
              "    .dataframe tbody tr th:only-of-type {\n",
              "        vertical-align: middle;\n",
              "    }\n",
              "\n",
              "    .dataframe tbody tr th {\n",
              "        vertical-align: top;\n",
              "    }\n",
              "\n",
              "    .dataframe thead th {\n",
              "        text-align: right;\n",
              "    }\n",
              "</style>\n",
              "<table border=\"1\" class=\"dataframe\">\n",
              "  <thead>\n",
              "    <tr style=\"text-align: right;\">\n",
              "      <th></th>\n",
              "      <th>pH</th>\n",
              "      <th>Temprature</th>\n",
              "      <th>Taste</th>\n",
              "      <th>Odor</th>\n",
              "      <th>Fat</th>\n",
              "      <th>Turbidity</th>\n",
              "      <th>Colour</th>\n",
              "      <th>Grade</th>\n",
              "    </tr>\n",
              "  </thead>\n",
              "  <tbody>\n",
              "    <tr>\n",
              "      <th>0</th>\n",
              "      <td>6.6</td>\n",
              "      <td>35</td>\n",
              "      <td>1</td>\n",
              "      <td>0</td>\n",
              "      <td>1</td>\n",
              "      <td>0</td>\n",
              "      <td>254</td>\n",
              "      <td>high</td>\n",
              "    </tr>\n",
              "    <tr>\n",
              "      <th>1</th>\n",
              "      <td>6.6</td>\n",
              "      <td>36</td>\n",
              "      <td>0</td>\n",
              "      <td>1</td>\n",
              "      <td>0</td>\n",
              "      <td>1</td>\n",
              "      <td>253</td>\n",
              "      <td>high</td>\n",
              "    </tr>\n",
              "    <tr>\n",
              "      <th>2</th>\n",
              "      <td>8.5</td>\n",
              "      <td>70</td>\n",
              "      <td>1</td>\n",
              "      <td>1</td>\n",
              "      <td>1</td>\n",
              "      <td>1</td>\n",
              "      <td>246</td>\n",
              "      <td>low</td>\n",
              "    </tr>\n",
              "    <tr>\n",
              "      <th>3</th>\n",
              "      <td>9.5</td>\n",
              "      <td>34</td>\n",
              "      <td>1</td>\n",
              "      <td>1</td>\n",
              "      <td>0</td>\n",
              "      <td>1</td>\n",
              "      <td>255</td>\n",
              "      <td>low</td>\n",
              "    </tr>\n",
              "    <tr>\n",
              "      <th>4</th>\n",
              "      <td>6.6</td>\n",
              "      <td>37</td>\n",
              "      <td>0</td>\n",
              "      <td>0</td>\n",
              "      <td>0</td>\n",
              "      <td>0</td>\n",
              "      <td>255</td>\n",
              "      <td>medium</td>\n",
              "    </tr>\n",
              "  </tbody>\n",
              "</table>\n",
              "</div>\n",
              "      <button class=\"colab-df-convert\" onclick=\"convertToInteractive('df-12b909e1-2bc2-4e39-bd56-ffd1098b31c9')\"\n",
              "              title=\"Convert this dataframe to an interactive table.\"\n",
              "              style=\"display:none;\">\n",
              "        \n",
              "  <svg xmlns=\"http://www.w3.org/2000/svg\" height=\"24px\"viewBox=\"0 0 24 24\"\n",
              "       width=\"24px\">\n",
              "    <path d=\"M0 0h24v24H0V0z\" fill=\"none\"/>\n",
              "    <path d=\"M18.56 5.44l.94 2.06.94-2.06 2.06-.94-2.06-.94-.94-2.06-.94 2.06-2.06.94zm-11 1L8.5 8.5l.94-2.06 2.06-.94-2.06-.94L8.5 2.5l-.94 2.06-2.06.94zm10 10l.94 2.06.94-2.06 2.06-.94-2.06-.94-.94-2.06-.94 2.06-2.06.94z\"/><path d=\"M17.41 7.96l-1.37-1.37c-.4-.4-.92-.59-1.43-.59-.52 0-1.04.2-1.43.59L10.3 9.45l-7.72 7.72c-.78.78-.78 2.05 0 2.83L4 21.41c.39.39.9.59 1.41.59.51 0 1.02-.2 1.41-.59l7.78-7.78 2.81-2.81c.8-.78.8-2.07 0-2.86zM5.41 20L4 18.59l7.72-7.72 1.47 1.35L5.41 20z\"/>\n",
              "  </svg>\n",
              "      </button>\n",
              "      \n",
              "  <style>\n",
              "    .colab-df-container {\n",
              "      display:flex;\n",
              "      flex-wrap:wrap;\n",
              "      gap: 12px;\n",
              "    }\n",
              "\n",
              "    .colab-df-convert {\n",
              "      background-color: #E8F0FE;\n",
              "      border: none;\n",
              "      border-radius: 50%;\n",
              "      cursor: pointer;\n",
              "      display: none;\n",
              "      fill: #1967D2;\n",
              "      height: 32px;\n",
              "      padding: 0 0 0 0;\n",
              "      width: 32px;\n",
              "    }\n",
              "\n",
              "    .colab-df-convert:hover {\n",
              "      background-color: #E2EBFA;\n",
              "      box-shadow: 0px 1px 2px rgba(60, 64, 67, 0.3), 0px 1px 3px 1px rgba(60, 64, 67, 0.15);\n",
              "      fill: #174EA6;\n",
              "    }\n",
              "\n",
              "    [theme=dark] .colab-df-convert {\n",
              "      background-color: #3B4455;\n",
              "      fill: #D2E3FC;\n",
              "    }\n",
              "\n",
              "    [theme=dark] .colab-df-convert:hover {\n",
              "      background-color: #434B5C;\n",
              "      box-shadow: 0px 1px 3px 1px rgba(0, 0, 0, 0.15);\n",
              "      filter: drop-shadow(0px 1px 2px rgba(0, 0, 0, 0.3));\n",
              "      fill: #FFFFFF;\n",
              "    }\n",
              "  </style>\n",
              "\n",
              "      <script>\n",
              "        const buttonEl =\n",
              "          document.querySelector('#df-12b909e1-2bc2-4e39-bd56-ffd1098b31c9 button.colab-df-convert');\n",
              "        buttonEl.style.display =\n",
              "          google.colab.kernel.accessAllowed ? 'block' : 'none';\n",
              "\n",
              "        async function convertToInteractive(key) {\n",
              "          const element = document.querySelector('#df-12b909e1-2bc2-4e39-bd56-ffd1098b31c9');\n",
              "          const dataTable =\n",
              "            await google.colab.kernel.invokeFunction('convertToInteractive',\n",
              "                                                     [key], {});\n",
              "          if (!dataTable) return;\n",
              "\n",
              "          const docLinkHtml = 'Like what you see? Visit the ' +\n",
              "            '<a target=\"_blank\" href=https://colab.research.google.com/notebooks/data_table.ipynb>data table notebook</a>'\n",
              "            + ' to learn more about interactive tables.';\n",
              "          element.innerHTML = '';\n",
              "          dataTable['output_type'] = 'display_data';\n",
              "          await google.colab.output.renderOutput(dataTable, element);\n",
              "          const docLink = document.createElement('div');\n",
              "          docLink.innerHTML = docLinkHtml;\n",
              "          element.appendChild(docLink);\n",
              "        }\n",
              "      </script>\n",
              "    </div>\n",
              "  </div>\n",
              "  "
            ]
          },
          "metadata": {},
          "execution_count": 4
        }
      ]
    },
    {
      "cell_type": "code",
      "source": [
        "x=df.iloc[ : , : -1]\n",
        "y=df.iloc[ : , -1 ]\n",
        "print(x)\n",
        "print(y)"
      ],
      "metadata": {
        "colab": {
          "base_uri": "https://localhost:8080/"
        },
        "id": "LD-VON8QO1HB",
        "outputId": "5501e0e5-1ae8-4878-8a3c-16a5af24df0c"
      },
      "execution_count": 6,
      "outputs": [
        {
          "output_type": "stream",
          "name": "stdout",
          "text": [
            "       pH  Temprature  Taste  Odor  Fat   Turbidity  Colour\n",
            "0     6.6          35      1     0     1          0     254\n",
            "1     6.6          36      0     1     0          1     253\n",
            "2     8.5          70      1     1     1          1     246\n",
            "3     9.5          34      1     1     0          1     255\n",
            "4     6.6          37      0     0     0          0     255\n",
            "...   ...         ...    ...   ...   ...        ...     ...\n",
            "1054  6.7          45      1     1     0          0     247\n",
            "1055  6.7          38      1     0     1          0     255\n",
            "1056  3.0          40      1     1     1          1     255\n",
            "1057  6.8          43      1     0     1          0     250\n",
            "1058  8.6          55      0     1     1          1     255\n",
            "\n",
            "[1059 rows x 7 columns]\n",
            "0         high\n",
            "1         high\n",
            "2          low\n",
            "3          low\n",
            "4       medium\n",
            "         ...  \n",
            "1054    medium\n",
            "1055      high\n",
            "1056       low\n",
            "1057      high\n",
            "1058       low\n",
            "Name: Grade, Length: 1059, dtype: object\n"
          ]
        }
      ]
    },
    {
      "cell_type": "code",
      "source": [
        "from sklearn.model_selection import train_test_split\n",
        "x_train,x_test,y_train,y_test=train_test_split(x,y,test_size=0.25,random_state=0)\n",
        "print(x_test)\n",
        "print(y_test)"
      ],
      "metadata": {
        "colab": {
          "base_uri": "https://localhost:8080/"
        },
        "id": "waSkpukYPNsI",
        "outputId": "65508fb2-b2d8-4d18-c86b-ecf56be00414"
      },
      "execution_count": 7,
      "outputs": [
        {
          "output_type": "stream",
          "name": "stdout",
          "text": [
            "       pH  Temprature  Taste  Odor  Fat   Turbidity  Colour\n",
            "418   6.6          37      1     1     1          1     255\n",
            "202   9.0          43      1     0     1          1     250\n",
            "682   6.8          45      0     0     0          1     255\n",
            "316   5.6          50      0     1     1          1     255\n",
            "267   6.8          45      1     1     1          1     245\n",
            "...   ...         ...    ...   ...   ...        ...     ...\n",
            "1021  4.5          38      0     1     1          1     255\n",
            "527   6.5          38      1     0     1          0     255\n",
            "985   6.5          45      1     0     0          0     246\n",
            "966   8.6          55      0     1     1          1     255\n",
            "113   6.8          45      0     0     0          1     255\n",
            "\n",
            "[265 rows x 7 columns]\n",
            "418       high\n",
            "202        low\n",
            "682     medium\n",
            "316        low\n",
            "267       high\n",
            "         ...  \n",
            "1021       low\n",
            "527     medium\n",
            "985     medium\n",
            "966        low\n",
            "113     medium\n",
            "Name: Grade, Length: 265, dtype: object\n"
          ]
        }
      ]
    },
    {
      "cell_type": "code",
      "source": [
        "from sklearn.preprocessing import StandardScaler\n",
        "st_x=StandardScaler()\n",
        "x_train=st_x.fit_transform(x_train)\n",
        "x_test=st_x.transform(x_test)\n",
        "print(x_train)"
      ],
      "metadata": {
        "colab": {
          "base_uri": "https://localhost:8080/"
        },
        "id": "U-_4l32xPbFp",
        "outputId": "b7074c8a-1135-4a90-e065-1a70487a043b"
      },
      "execution_count": 8,
      "outputs": [
        {
          "output_type": "stream",
          "name": "stdout",
          "text": [
            "[[-0.07669946 -0.60866162  0.92708402 ... -1.36996773 -0.95323336\n",
            "   0.72584779]\n",
            " [ 0.54401896  2.01309602 -1.07865089 ... -1.36996773 -0.95323336\n",
            "   0.72584779]\n",
            " [ 0.06123796  0.07105333  0.92708402 ... -1.36996773 -0.95323336\n",
            "  -1.14837382]\n",
            " ...\n",
            " [-1.31813632 -0.60866162  0.92708402 ...  0.7299442  -0.95323336\n",
            "   0.72584779]\n",
            " [ 1.64751839 -0.12315094  0.92708402 ...  0.7299442   1.04906106\n",
            "  -0.44554072]\n",
            " [-0.07669946 -0.60866162  0.92708402 ... -1.36996773 -0.95323336\n",
            "   0.72584779]]\n"
          ]
        }
      ]
    },
    {
      "cell_type": "code",
      "source": [
        "from sklearn.tree import DecisionTreeClassifier\n",
        "classifier= DecisionTreeClassifier(criterion='gini',random_state=0)\n",
        "classifier.fit(x_train,y_train)\n",
        "y_pred=classifier.predict(x_test)\n",
        "print(y_pred)\n",
        "plt.show()"
      ],
      "metadata": {
        "colab": {
          "base_uri": "https://localhost:8080/"
        },
        "id": "xXJT0pcSPlfi",
        "outputId": "5fb5eb23-6a7f-48cd-8768-d19cfb5c9a7d"
      },
      "execution_count": 9,
      "outputs": [
        {
          "output_type": "stream",
          "name": "stdout",
          "text": [
            "['high' 'low' 'medium' 'low' 'high' 'medium' 'low' 'high' 'high' 'medium'\n",
            " 'low' 'high' 'medium' 'medium' 'high' 'medium' 'high' 'high' 'high' 'low'\n",
            " 'high' 'low' 'medium' 'high' 'high' 'low' 'high' 'high' 'low' 'medium'\n",
            " 'high' 'low' 'low' 'medium' 'high' 'high' 'low' 'medium' 'high' 'low'\n",
            " 'high' 'medium' 'high' 'low' 'medium' 'low' 'high' 'low' 'medium' 'low'\n",
            " 'high' 'medium' 'medium' 'medium' 'low' 'medium' 'medium' 'low' 'medium'\n",
            " 'low' 'medium' 'low' 'medium' 'high' 'low' 'medium' 'low' 'medium'\n",
            " 'medium' 'high' 'high' 'medium' 'medium' 'high' 'medium' 'medium'\n",
            " 'medium' 'low' 'high' 'medium' 'low' 'medium' 'medium' 'low' 'medium'\n",
            " 'medium' 'high' 'low' 'low' 'low' 'medium' 'high' 'medium' 'low' 'high'\n",
            " 'medium' 'low' 'high' 'medium' 'medium' 'high' 'medium' 'low' 'medium'\n",
            " 'high' 'high' 'high' 'high' 'low' 'low' 'high' 'high' 'high' 'high' 'low'\n",
            " 'medium' 'low' 'high' 'medium' 'high' 'medium' 'medium' 'low' 'high'\n",
            " 'high' 'low' 'low' 'low' 'medium' 'high' 'low' 'medium' 'low' 'medium'\n",
            " 'high' 'medium' 'medium' 'medium' 'medium' 'low' 'medium' 'high' 'low'\n",
            " 'low' 'medium' 'high' 'low' 'low' 'low' 'high' 'low' 'medium' 'medium'\n",
            " 'low' 'high' 'high' 'medium' 'medium' 'medium' 'medium' 'medium' 'medium'\n",
            " 'low' 'medium' 'medium' 'high' 'high' 'low' 'high' 'medium' 'low' 'low'\n",
            " 'medium' 'high' 'high' 'low' 'high' 'high' 'high' 'medium' 'medium' 'low'\n",
            " 'low' 'low' 'low' 'high' 'medium' 'high' 'low' 'low' 'high' 'low' 'low'\n",
            " 'low' 'medium' 'low' 'medium' 'medium' 'high' 'medium' 'low' 'high'\n",
            " 'medium' 'low' 'medium' 'medium' 'low' 'medium' 'medium' 'low' 'high'\n",
            " 'medium' 'medium' 'medium' 'medium' 'medium' 'high' 'medium' 'high' 'low'\n",
            " 'high' 'high' 'medium' 'high' 'medium' 'low' 'low' 'medium' 'high' 'high'\n",
            " 'high' 'low' 'low' 'high' 'low' 'medium' 'low' 'low' 'low' 'high' 'low'\n",
            " 'high' 'low' 'medium' 'high' 'low' 'medium' 'medium' 'low' 'low' 'medium'\n",
            " 'low' 'high' 'low' 'low' 'low' 'high' 'low' 'high' 'low' 'low' 'medium'\n",
            " 'medium' 'low' 'medium']\n"
          ]
        }
      ]
    },
    {
      "cell_type": "code",
      "source": [
        "from sklearn.metrics import confusion_matrix\n",
        "cm=confusion_matrix(y_test,y_pred)\n",
        "print(cm)"
      ],
      "metadata": {
        "colab": {
          "base_uri": "https://localhost:8080/"
        },
        "id": "_QWaD9BLPxaM",
        "outputId": "6e2ec42a-5431-40cf-9352-163d6d15b84c"
      },
      "execution_count": 10,
      "outputs": [
        {
          "output_type": "stream",
          "name": "stdout",
          "text": [
            "[[80  0  1]\n",
            " [ 0 90  1]\n",
            " [ 0  0 93]]\n"
          ]
        }
      ]
    },
    {
      "cell_type": "code",
      "source": [
        "import matplotlib.pyplot as plt\n",
        "y_pred=classifier.predict(x_test)\n",
        "plt.plot(y_pred)\n",
        "plt.show()"
      ],
      "metadata": {
        "colab": {
          "base_uri": "https://localhost:8080/",
          "height": 265
        },
        "id": "7UpXe9G7P7wk",
        "outputId": "7ca01c2d-ac29-42f4-c1ba-8e47a427cf80"
      },
      "execution_count": 11,
      "outputs": [
        {
          "output_type": "display_data",
          "data": {
            "text/plain": [
              "<Figure size 432x288 with 1 Axes>"
            ],
            "image/png": "[encoded data removed]"
          },
          "metadata": {
            "needs_background": "light"
          }
        }
      ]
    },
    {
      "cell_type": "code",
      "source": [
        "cm=confusion_matrix(y_test,y_pred)\n",
        "plt.plot(cm)\n",
        "plt.show()"
      ],
      "metadata": {
        "colab": {
          "base_uri": "https://localhost:8080/",
          "height": 265
        },
        "id": "7Xn9YpEGP_a0",
        "outputId": "156856f0-4cfd-4b91-b70b-e5ee7a29afef"
      },
      "execution_count": 12,
      "outputs": [
        {
          "output_type": "display_data",
          "data": {
            "text/plain": [
              "<Figure size 432x288 with 1 Axes>"
            ],
            "image/png": "[encoded data removed]"
          },
          "metadata": {
            "needs_background": "light"
          }
        }
      ]
    },
    {
      "cell_type": "code",
      "source": [
        "from sklearn import tree\n",
        "\n",
        "classifier = tree.DecisionTreeClassifier()\n",
        "classifier = classifier.fit(x, y)\n",
        "tree.plot_tree(classifier)"
      ],
      "metadata": {
        "colab": {
          "base_uri": "https://localhost:8080/",
          "height": 994
        },
        "id": "NdPOyyo8QLmx",
        "outputId": "ed1b1e7a-9d09-4151-a0a2-de5b61e5effb"
      },
      "execution_count": 16,
      "outputs": [
        {
          "output_type": "execute_result",
          "data": {
            "text/plain": [
              "[Text(0.39945652173913043, 0.9545454545454546, 'X[0] <= 7.1\\ngini = 0.653\\nsamples = 1059\\nvalue = [256, 429, 374]'),\n",
              " Text(0.35597826086956524, 0.8636363636363636, 'X[0] <= 6.0\\ngini = 0.648\\nsamples = 849\\nvalue = [256, 219, 374]'),\n",
              " Text(0.3125, 0.7727272727272727, 'gini = 0.0\\nsamples = 169\\nvalue = [0, 169, 0]'),\n",
              " Text(0.39945652173913043, 0.7727272727272727, 'X[4] <= 0.5\\ngini = 0.55\\nsamples = 680\\nvalue = [256, 50, 374]'),\n",
              " Text(0.13043478260869565, 0.6818181818181818, 'X[1] <= 47.5\\ngini = 0.189\\nsamples = 257\\nvalue = [1, 26, 230]'),\n",
              " Text(0.08695652173913043, 0.5909090909090909, 'X[3] <= 0.5\\ngini = 0.017\\nsamples = 232\\nvalue = [1, 1, 230]'),\n",
              " Text(0.043478260869565216, 0.5, 'gini = 0.0\\nsamples = 188\\nvalue = [0, 0, 188]'),\n",
              " Text(0.13043478260869565, 0.5, 'X[5] <= 0.5\\ngini = 0.088\\nsamples = 44\\nvalue = [1, 1, 42]'),\n",
              " Text(0.08695652173913043, 0.4090909090909091, 'gini = 0.0\\nsamples = 42\\nvalue = [0, 0, 42]'),\n",
              " Text(0.17391304347826086, 0.4090909090909091, 'X[6] <= 251.5\\ngini = 0.5\\nsamples = 2\\nvalue = [1, 1, 0]'),\n",
              " Text(0.13043478260869565, 0.3181818181818182, 'gini = 0.0\\nsamples = 1\\nvalue = [0, 1, 0]'),\n",
              " Text(0.21739130434782608, 0.3181818181818182, 'gini = 0.0\\nsamples = 1\\nvalue = [1, 0, 0]'),\n",
              " Text(0.17391304347826086, 0.5909090909090909, 'gini = 0.0\\nsamples = 25\\nvalue = [0, 25, 0]'),\n",
              " Text(0.6684782608695652, 0.6818181818181818, 'X[5] <= 0.5\\ngini = 0.517\\nsamples = 423\\nvalue = [255, 24, 144]'),\n",
              " Text(0.532608695652174, 0.5909090909090909, 'X[1] <= 47.5\\ngini = 0.555\\nsamples = 260\\nvalue = [94, 22, 144]'),\n",
              " Text(0.4891304347826087, 0.5, 'X[0] <= 6.55\\ngini = 0.478\\nsamples = 238\\nvalue = [94, 0, 144]'),\n",
              " Text(0.34782608695652173, 0.4090909090909091, 'X[3] <= 0.5\\ngini = 0.031\\nsamples = 64\\nvalue = [1, 0, 63]'),\n",
              " Text(0.30434782608695654, 0.3181818181818182, 'gini = 0.0\\nsamples = 63\\nvalue = [0, 0, 63]'),\n",
              " Text(0.391304347826087, 0.3181818181818182, 'gini = 0.0\\nsamples = 1\\nvalue = [1, 0, 0]'),\n",
              " Text(0.6304347826086957, 0.4090909090909091, 'X[1] <= 39.0\\ngini = 0.498\\nsamples = 174\\nvalue = [93, 0, 81]'),\n",
              " Text(0.4782608695652174, 0.3181818181818182, 'X[6] <= 249.5\\ngini = 0.126\\nsamples = 74\\nvalue = [69, 0, 5]'),\n",
              " Text(0.43478260869565216, 0.22727272727272727, 'gini = 0.0\\nsamples = 1\\nvalue = [0, 0, 1]'),\n",
              " Text(0.5217391304347826, 0.22727272727272727, 'X[2] <= 0.5\\ngini = 0.104\\nsamples = 73\\nvalue = [69, 0, 4]'),\n",
              " Text(0.4782608695652174, 0.13636363636363635, 'X[3] <= 0.5\\ngini = 0.278\\nsamples = 24\\nvalue = [20, 0, 4]'),\n",
              " Text(0.43478260869565216, 0.045454545454545456, 'gini = 0.0\\nsamples = 4\\nvalue = [0, 0, 4]'),\n",
              " Text(0.5217391304347826, 0.045454545454545456, 'gini = 0.0\\nsamples = 20\\nvalue = [20, 0, 0]'),\n",
              " Text(0.5652173913043478, 0.13636363636363635, 'gini = 0.0\\nsamples = 49\\nvalue = [49, 0, 0]'),\n",
              " Text(0.782608695652174, 0.3181818181818182, 'X[1] <= 42.0\\ngini = 0.365\\nsamples = 100\\nvalue = [24, 0, 76]'),\n",
              " Text(0.6956521739130435, 0.22727272727272727, 'X[3] <= 0.5\\ngini = 0.04\\nsamples = 49\\nvalue = [1, 0, 48]'),\n",
              " Text(0.6521739130434783, 0.13636363636363635, 'gini = 0.0\\nsamples = 48\\nvalue = [0, 0, 48]'),\n",
              " Text(0.7391304347826086, 0.13636363636363635, 'gini = 0.0\\nsamples = 1\\nvalue = [1, 0, 0]'),\n",
              " Text(0.8695652173913043, 0.22727272727272727, 'X[0] <= 6.75\\ngini = 0.495\\nsamples = 51\\nvalue = [23, 0, 28]'),\n",
              " Text(0.8260869565217391, 0.13636363636363635, 'gini = 0.0\\nsamples = 20\\nvalue = [0, 0, 20]'),\n",
              " Text(0.9130434782608695, 0.13636363636363635, 'X[2] <= 0.5\\ngini = 0.383\\nsamples = 31\\nvalue = [23, 0, 8]'),\n",
              " Text(0.8695652173913043, 0.045454545454545456, 'gini = 0.0\\nsamples = 8\\nvalue = [0, 0, 8]'),\n",
              " Text(0.9565217391304348, 0.045454545454545456, 'gini = 0.0\\nsamples = 23\\nvalue = [23, 0, 0]'),\n",
              " Text(0.5760869565217391, 0.5, 'gini = 0.0\\nsamples = 22\\nvalue = [0, 22, 0]'),\n",
              " Text(0.8043478260869565, 0.5909090909090909, 'X[0] <= 6.55\\ngini = 0.024\\nsamples = 163\\nvalue = [161, 2, 0]'),\n",
              " Text(0.7608695652173914, 0.5, 'X[2] <= 0.5\\ngini = 0.147\\nsamples = 25\\nvalue = [23, 2, 0]'),\n",
              " Text(0.717391304347826, 0.4090909090909091, 'gini = 0.0\\nsamples = 2\\nvalue = [0, 2, 0]'),\n",
              " Text(0.8043478260869565, 0.4090909090909091, 'gini = 0.0\\nsamples = 23\\nvalue = [23, 0, 0]'),\n",
              " Text(0.8478260869565217, 0.5, 'gini = 0.0\\nsamples = 138\\nvalue = [138, 0, 0]'),\n",
              " Text(0.4429347826086957, 0.8636363636363636, 'gini = 0.0\\nsamples = 210\\nvalue = [0, 210, 0]')]"
            ]
          },
          "metadata": {},
          "execution_count": 16
        },
        {
          "output_type": "display_data",
          "data": {
            "text/plain": [
              "<Figure size 432x288 with 1 Axes>"
            ],
            "image/png": "[encoded data removed]"
          },
          "metadata": {
            "needs_background": "light"
          }
        }
      ]
    }
  ]
}